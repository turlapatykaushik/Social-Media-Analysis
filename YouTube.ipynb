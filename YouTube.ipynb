{
 "cells": [
  {
   "cell_type": "markdown",
   "metadata": {},
   "source": [
    "# YOUTUBE"
   ]
  },
  {
   "cell_type": "markdown",
   "metadata": {},
   "source": [
    "# READ ALL THE FEDERATIONS DATA"
   ]
  },
  {
   "cell_type": "code",
   "execution_count": 1,
   "metadata": {},
   "outputs": [],
   "source": [
    "import pandas as pd\n",
    "PowerLiftingDataFrame = pd.read_excel(r'D:\\AISTS\\Course Related\\Research Paper\\Federations Data\\Powerlifting\\YouTube.xlsx',sheet_name=None)\n",
    "KorfballDataFrame = pd.read_excel(r'D:\\AISTS\\Course Related\\Research Paper\\Federations Data\\Korfball\\YouTube.xlsx',sheet_name=None)\n",
    "GymnasticsDataFrame = pd.read_excel(r'D:\\AISTS\\Course Related\\Research Paper\\Federations Data\\Gymnastics\\YouTube.xlsx',sheet_name=None)\n",
    "FloorballDataFrame = pd.read_excel(r'D:\\AISTS\\Course Related\\Research Paper\\Federations Data\\Floorball\\YouTube.xlsx',sheet_name=None)\n",
    "FistballDataFrame = pd.read_excel(r'D:\\AISTS\\Course Related\\Research Paper\\Federations Data\\Fistball\\YouTube.xlsx',sheet_name=None)\n",
    "HockeyDataFrame = pd.read_excel(r'D:\\AISTS\\Course Related\\Research Paper\\Federations Data\\Hockey\\YouTube.xlsx',sheet_name=None)"
   ]
  },
  {
   "cell_type": "markdown",
   "metadata": {},
   "source": [
    "# READ THE SUBSCRIBERS DATA FOR ALL THE FEDERATIONS"
   ]
  },
  {
   "cell_type": "code",
   "execution_count": 2,
   "metadata": {},
   "outputs": [
    {
     "data": {
      "text/plain": [
       "<AxesSubplot:>"
      ]
     },
     "execution_count": 2,
     "metadata": {},
     "output_type": "execute_result"
    },
    {
     "data": {
      "image/png": "[encoded data removed]",
      "text/plain": [
       "<Figure size 432x288 with 1 Axes>"
      ]
     },
     "metadata": {
      "needs_background": "light"
     },
     "output_type": "display_data"
    }
   ],
   "source": [
    "subscribersList = []\n",
    "#PowerLiftingDataFrame['General Profile'].plot('Name','Followers',kind='bar')\n",
    "subscribersList.append(PowerLiftingDataFrame['General Profile']['Subscribers'][0])\n",
    "#KorfballDataFrame['General Profile'].plot('Name','Followers',kind='bar')\n",
    "subscribersList.append(KorfballDataFrame['General Profile']['Subscribers'][0])\n",
    "#GymnasticsDataFrame['General Profile'].plot('Name','Followers',kind='bar')\n",
    "subscribersList.append(GymnasticsDataFrame['General Profile']['Subscribers'][0])\n",
    "#FloorballDataFrame['General Profile'].plot('Name','Followers',kind='bar')\n",
    "subscribersList.append(FloorballDataFrame['General Profile']['Subscribers'][0])\n",
    "#FistballDataFrame['General Profile'].plot('Name','Followers',kind='bar')\n",
    "subscribersList.append(FistballDataFrame['General Profile']['Subscribers'][0])\n",
    "subscribersList.append(HockeyDataFrame['General Profile']['Subscribers'][0])\n",
    "# Create a sample dataframe with an text index\n",
    "plotdata = pd.DataFrame(\n",
    "    {\"Subscribers\": subscribersList}, \n",
    "    index=[\"Powerlifting\", \"Korfball\", \"Gymnastics\", \"Floorball\",\"Fistball\", \"Hockey\"])\n",
    "# Plot a bar chart\n",
    "plotdata.plot(kind=\"bar\")"
   ]
  },
  {
   "cell_type": "markdown",
   "metadata": {},
   "source": [
    "# READ THE TOTAL VIDEOS POSTED DATA FOR ALL THE FEDERATIONS"
   ]
  },
  {
   "cell_type": "code",
   "execution_count": 3,
   "metadata": {},
   "outputs": [
    {
     "data": {
      "text/plain": [
       "<AxesSubplot:>"
      ]
     },
     "execution_count": 3,
     "metadata": {},
     "output_type": "execute_result"
    },
    {
     "data": {
      "image/png": "[encoded data removed]",
      "text/plain": [
       "<Figure size 432x288 with 1 Axes>"
      ]
     },
     "metadata": {
      "needs_background": "light"
     },
     "output_type": "display_data"
    }
   ],
   "source": [
    "videosList = []\n",
    "#PowerLiftingDataFrame['General Profile'].plot('Name','Followers',kind='bar')\n",
    "videosList.append(PowerLiftingDataFrame['General Profile']['Videos'][0])\n",
    "#KorfballDataFrame['General Profile'].plot('Name','Followers',kind='bar')\n",
    "videosList.append(KorfballDataFrame['General Profile']['Videos'][0])\n",
    "#GymnasticsDataFrame['General Profile'].plot('Name','Followers',kind='bar')\n",
    "videosList.append(GymnasticsDataFrame['General Profile']['Videos'][0])\n",
    "#FloorballDataFrame['General Profile'].plot('Name','Followers',kind='bar')\n",
    "videosList.append(FloorballDataFrame['General Profile']['Videos'][0])\n",
    "#FistballDataFrame['General Profile'].plot('Name','Followers',kind='bar')\n",
    "videosList.append(FistballDataFrame['General Profile']['Videos'][0])\n",
    "videosList.append(HockeyDataFrame['General Profile']['Videos'][0])\n",
    "# Create a sample dataframe with an text index\n",
    "plotdata = pd.DataFrame(\n",
    "    {\"videos\": videosList}, \n",
    "    index=[\"Powerlifting\", \"Korfball\", \"Gymnastics\", \"Floorball\",\"Fistball\", \"Hockey\"])\n",
    "# Plot a bar chart\n",
    "plotdata.plot(kind=\"bar\")"
   ]
  },
  {
   "cell_type": "markdown",
   "metadata": {},
   "source": [
    "# TOP COUNTRIES AND CONTINENTS (VIEWS NOT SUBSCRIBERS)\n",
    "\n",
    "### Powerlifting_Countries = [US (16.9 %), UK (6.3 %), Australia (3.2 %), Canada (2.5 %), Sweden (2.7 %), Russia (1.9 %), Germany (2.5 %)]\n",
    "### Powerlifting_Continents = [NA - 2, Europe - 4, Australia - 1]\n",
    "\n",
    "### Korfball_Countries = [Netherlands (41.63 %), UK (9.2 %), Belgium (5.87 %), Catalonia (4.1 %), Germany (3.44 %), Taiwan (3.16 %), Switzerland (2.2 %), Portugal (2.11 %), Turkey (1.92 %), US (1.58 %), India (1.48 %)]\n",
    "### Korball_Continents = [Europe - 8, Asia - 2, NA - 1]\n",
    "\n",
    "### Hockey_Countries = [India (22.7 %), UK (11.2 %), Netherlands (7.3 %),  Argentina (6.3 %), Malaysia (5.9 %), Australia (4.9 %), Pakistan (4.4 %), US (3.9 %), South Africa (3.3 %), Germany (3.3 %), Belgium (3.1 %)\n",
    "### Hockey_Continents = [Asia - 3, Europe - 4, Africa - 1, NA - 1, SA - 1, Australia - 1\n",
    "\n",
    "### Gymnastics_Countries = [India, US, Vietnam, Mexico, Phillipines]\n",
    "\n",
    "### Floorball_Countries = [Sweden (17.9 %), Czech (14.3 %), Finland (13.7 %), Switzerland (7.2 %), Germany (4.1 %), Slovakia (4.1 %), Singapore (4.7 %), Russia (3.1 %), Latvia (3.0 %), Norway (2.2 %), Poland (2.2 %), Japan (1.6 %)\n",
    "### Floorball_Continents = [Europe - 10, Asia - 2]\n",
    "\n",
    "### Fistball_Countries = [Germany (29.11 %), Switzerland (5.98 %), Austria (3.04 %), Brazil (1.44 %), Argentina (1.55 %), US (2.05 %), Poland (1.29 %), Newzealand (0.77 %), Canada (1.27 %), Italy (0.74 %), Australia (1.4 %), India (1.29 %)\n",
    "\n",
    "### Fistball_Continents = [Europe - 5, Asia - 1, NA - 2, Australia - 2, SA - 2]"
   ]
  },
  {
   "cell_type": "markdown",
   "metadata": {},
   "source": [
    "# FOURTH PERIOD\n",
    "\n",
    "### Powerlifting_Avg_Duration_Of_Video_Watched = [ Female - 11 m 25 s, Male - 8 m 56 s]\n",
    "### Powerlifting_Avg_Percentage_Of_Video_Watched = [ Female - 8.2 %, Male - 7.6 %]\n",
    "\n",
    "### Korfball_Avg_Duration_Of_Video_Watched = [ Female - 9 m 0 s, Male - 3 m 52 s]\n",
    "### Korfball_Avg_Percentage_Of_Video_Watched = [ Female - 12.92 %, Male - 8.49 %]\n",
    "\n",
    "### Hockey_Avg_Duration_Of_Video_Watched = [ Female - 5 m 59 s, Male - 4 m 33 s]\n",
    "### Hockey_Avg_Percentage_Of_Video_Watched = [ Female - 15.8 %, Male - 15.5 %]\n",
    "\n",
    "### Gymnastics_Avg_Duration_Of_Video_Watched = [ Female - 4 m 38 s, Male - 5 m 0 s]\n",
    "### Gymnastics_Avg_Percentage_Of_Video_Watched = [ Female - 15.3 %, Male - 17.3 %]\n",
    "\n",
    "### Floorball_Avg_Duration_Of_Video_Watched = [ Female - 5 m 48 s, Male - 4 m 56 s]\n",
    "### Floorball_Avg_Percentage_Of_Video_Watched = [ Female - 9.3 %, Male - 9.1 %]\n",
    "\n",
    "### Fistball_Avg_Duration_Of_Video_Watched = [ Female - 3 m 12 s, Male - 4 m 58 s]\n",
    "### Fistball_Avg_Percentage_Of_Video_Watched = [ Female - 9.11 %, Male - 9.67 %]"
   ]
  }
 ],
 "metadata": {
  "kernelspec": {
   "display_name": "Python 3",
   "language": "python",
   "name": "python3"
  },
  "language_info": {
   "codemirror_mode": {
    "name": "ipython",
    "version": 3
   },
   "file_extension": ".py",
   "mimetype": "text/x-python",
   "name": "python",
   "nbconvert_exporter": "python",
   "pygments_lexer": "ipython3",
   "version": "3.8.5"
  }
 },
 "nbformat": 4,
 "nbformat_minor": 4
}
